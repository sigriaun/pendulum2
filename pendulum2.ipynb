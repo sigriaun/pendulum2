{
 "cells": [
  {
   "cell_type": "markdown",
   "metadata": {},
   "source": [
    "# Computational assignment 2\n",
    "\n",
    "# TO DO \n",
    "- fiks plotting oppgave 1\n",
    "- få til overdamped (analytisk stemmer ikke med numerisk)\n",
    "- skriv om hvordan vi finner C for critical damping (initialbetingelsen omega0 = 0)\n",
    "- skriv om analytisk løsning \n",
    "- Plotte energitap (work done by damping)\n",
    "- kommenter oppgave 1\n",
    "\n",
    "- hele oppgave 2\n"
   ]
  },
  {
   "cell_type": "markdown",
   "metadata": {},
   "source": [
    "## 1) Damped harmonic motion of a pendulum\n",
    "\n",
    "\n",
    "# må sikkert skrive om utleding av analytisk løsning??"
   ]
  },
  {
   "cell_type": "code",
   "execution_count": null,
   "metadata": {},
   "outputs": [],
   "source": [
    "import numpy as np \n",
    "import matplotlib.pyplot as plt\n",
    "import scipy.constants as sc"
   ]
  },
  {
   "cell_type": "code",
   "execution_count": null,
   "metadata": {},
   "outputs": [],
   "source": [
    "\"\"\"Ville ta inn q som en parameter i funksjonen f, vet ikke hvordan dette løses best. \n",
    "Derfor definerer jeg Kutta4 på nytt som en midlertidig løsning\"\"\"\n",
    "\n",
    "def Kutta4(f,t0,y0,h,nsteps,q=q0,omega_D=1):\n",
    "    Y=np.zeros((nsteps,2))  #2D array. Y[:,0] is theta values and Y[:,1] is omega values \n",
    "    Y[0]=y0 #initial values\n",
    "    \n",
    "    T=np.linspace(t0, t0 + h*nsteps, nsteps) #array of time values \n",
    "    \n",
    "    for i in range(nsteps-1): \n",
    "        t=i*h\n",
    "        F1= f(Y[i],t,q,omega_D)\n",
    "        F2= f(Y[i] + h/2* F1,t,q,omega_D)\n",
    "        F3= f(Y[i] + h/2* F2,t,q,omega_D)\n",
    "        F4= f(Y[i] + h*F3,t,q,omega_D)\n",
    "        \n",
    "        Y[i+1]= Y[i] + h/6*(F1+2*F2+2*F3+F4) #calculating the new theta and omega values\n",
    "        \n",
    "    return Y,T #return array of theta and omega values, and time list"
   ]
  },
  {
   "cell_type": "code",
   "execution_count": null,
   "metadata": {},
   "outputs": [],
   "source": [
    "#default value of the damping parameter  ?????? trenger kanskje ikke denne, men den er oppgitt i oppgaven\n",
    "q0=1 \n",
    "\n",
    "#constants and initial values \n",
    "delta_t=0.01 #?????????Hvilken verdi skal vi bruke????\n",
    "nsteps =int(10/delta_t)   #??????Hvilken verdi skal vi bruke her da????\n",
    "theta0 = 0.2\n",
    "omega0 =0 \n",
    "x0 = np.array([theta0,omega0])\n",
    "g=sc.g\n",
    "l=1\n",
    "\n",
    "\n",
    "\"\"\"faseforskyvning?????\"\"\"\n",
    "phi = np.pi/2\n",
    "\n",
    "\n",
    "def f_damped(w,t,q,omega_D):\n",
    "    return np.array([w[1],-g/l*w[0]-q*w[1]])\n",
    "\n",
    "\n",
    "\"\"\"Bare en første test\"\"\"\n",
    "#x_rk, t =  Kutta4(f2,0,x0,delta_t,nsteps,q)\n",
    "#theta_damped = x_rk[:,0] \n",
    "#plt.plot(t,theta_damped)\n",
    "#plt.show()\n",
    "    \n",
    "\n",
    "print(np.sqrt(4*g/l))\n",
    "\n",
    "def plot_damped(q,analytic_sol): #sett sikkert inn flere parametre her\n",
    "    x,t = Kutta4(f_damped,0,x0,delta_t,nsteps,q)\n",
    "    theta=x[:,0]\n",
    "    \n",
    "    theta_a=analytic_sol(t,q)\n",
    "    \n",
    "    plt.plot(t,theta)\n",
    "    plt.plot(t,theta_a)\n",
    "    plt.show()\n",
    "    \n",
    "def analytic_sol_u(t,q):\n",
    "    return theta0 * np.exp(-q*t/2) * np.sin(np.sqrt(g/l - q**2/4)*t + phi )\n",
    "    \n",
    "def analytic_sol_o(t,q):  ##pluss eller minus???????????????\n",
    "    exp_fact= (q/2 - np.sqrt(q**2/4 + g/l))\n",
    "    return theta0 * np.exp(exp_fact*t)\n",
    "    return theta0 * np.exp(-(q/2 - np.sqrt(q**2/4 + g/l))*t)\n",
    "    #return theta0 * np.exp( -(q/2 + np.sqrt(q**2/4 + g/l))*t)\n",
    "\n",
    "def analytic_sol_c(t,q): ###Hva er C ???????????????????\n",
    "    C=theta0*q/2   #hva i all verden er denne????\n",
    "    return (theta0 + C*t ) * np.exp(-q*t/2)\n",
    "    \n",
    "\"\"\"Underdamped  q^2 < 4g/l  \"\"\"\n",
    "q_u=1\n",
    "plot_damped(q_u,analytic_sol_u)\n",
    "\n",
    "\"\"\"Overdamped q^2>4g/l\"\"\"\n",
    "q_o=30\n",
    "plot_damped(q_o,analytic_sol_o)\n",
    "\n",
    "\"\"\"Critically damped q\"\"\"\n",
    "q_c=np.sqrt(4*g/l)\n",
    "plot_damped(q_c,analytic_sol_c)\n"
   ]
  },
  {
   "cell_type": "markdown",
   "metadata": {},
   "source": [
    "## 2) Forced harmonic (damped) pendulum "
   ]
  },
  {
   "cell_type": "code",
   "execution_count": null,
   "metadata": {},
   "outputs": [],
   "source": [
    "#default value for driving force\n",
    "nsteps_f= int(20/delta_t)\n",
    "Fd = 0.2\n",
    "Omega_D = np.sqrt(g/l)  #prøvde å sette den til resonansfrekvensen\n",
    "q0=1\n",
    "\n",
    "def f_forced(w,t,q,omega_D):\n",
    "    return np.array([w[1],-q*w[1]-g/l*w[0]+Fd*np.sin(omega_D*t)])\n",
    "\n",
    "\n",
    "x_forced, t = Kutta4(f_forced,0,x0,delta_t,nsteps_f,q0)\n",
    "theta_forced=x_forced[:,0]\n",
    "\n",
    "plt.plot(t,theta_forced)\n",
    "plt.show()"
   ]
  },
  {
   "cell_type": "code",
   "execution_count": null,
   "metadata": {},
   "outputs": [],
   "source": [
    "\"\"\"Dependence of Omega_D\"\"\"\n",
    "\n",
    "#skal finne resonans amplituden\n",
    "def resonance_amplitude(theta_list):\n",
    "    midle_of_list= int(nsteps_f/2)\n",
    "    return np.max(theta_list[midle_of_list:])\n",
    "    \n",
    "list_of_omega_D = np.linspace(0,10,5) \n",
    "amplitudes_omega_D=np.zeros(len(list_of_omega_D))\n",
    "\n",
    "for i in range(len(list_of_omega_D)):\n",
    "    omega_i = list_of_omega_D[i]\n",
    "    print(omega_i)\n",
    "    x_i, t= Kutta4(f_forced,0,x0,delta_t,nsteps_f,q0,omega_i)\n",
    "    theta_i = x_i[:,0]\n",
    "    amplitudes_omega_D[i] = resonance_amplitude(theta_i)\n",
    "    plt.plot()\n",
    "\n",
    "plt.plot(list_of_omega_D,amplitudes_omega_D)\n",
    "    "
   ]
  },
  {
   "cell_type": "code",
   "execution_count": null,
   "metadata": {},
   "outputs": [],
   "source": [
    "x_test1, t= Kutta4(f_forced,0,x0,delta_t,nsteps_f,q0)\n",
    "\n",
    "theta_test1 = x__test1[:,0]\n",
    "\n"
   ]
  },
  {
   "cell_type": "code",
   "execution_count": null,
   "metadata": {},
   "outputs": [],
   "source": []
  }
 ],
 "metadata": {
  "kernelspec": {
   "display_name": "Python 3",
   "language": "python",
   "name": "python3"
  },
  "language_info": {
   "codemirror_mode": {
    "name": "ipython",
    "version": 3
   },
   "file_extension": ".py",
   "mimetype": "text/x-python",
   "name": "python",
   "nbconvert_exporter": "python",
   "pygments_lexer": "ipython3",
   "version": "3.6.4"
  }
 },
 "nbformat": 4,
 "nbformat_minor": 2
}
