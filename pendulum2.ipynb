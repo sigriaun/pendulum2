{
 "cells": [
  {
   "cell_type": "markdown",
   "metadata": {},
   "source": [
    "# Computational assignment 2\n",
    "\n",
    "# TO DO \n",
    "\n",
    "- få til overdamped (analytisk stemmer ikke med numerisk) FIKSET???\n",
    "- skriv om hvordan vi finner C for critical damping (initialbetingelsen omega0 = 0)\n",
    "- skriv om analytisk løsning \n",
    "- kommenter oppgave 1: MANGLER: evt mer utledning av analytisk løsning, mer kommentarer til plottene (se teksten). SIGRID: Gjerne kontroller at det jeg har skrevet gir mening :)))\n",
    "\n",
    "\n",
    "OPPGAVE 2:\n",
    "-RYDD\n",
    "-Tekst til oppgave 2\n",
    "-Can you relate the resonance observed to the physical parameters of our pendulum?\n",
    "-Sammenligne med analytisk løsning\n"
   ]
  },
  {
   "cell_type": "markdown",
   "metadata": {},
   "source": [
    "## 1) Damped harmonic motion of a pendulum\n",
    "\n",
    "\n",
    "# må sikkert skrive om utleding av analytisk løsning??\n",
    "\n",
    "For a pendulum without damping, the equation of motion is $\\frac{d^2 \\theta}{dt^2}=-\\frac{g}{l}\\theta$. A damped pendulum is affected by a damping force proportiaonal to the velocity, which gives the last term in the equation of motion for a damped pendulum: $\\frac{d^2 \\theta}{dt^2}=-\\frac{g}{l}\\theta-q\\frac{d\\theta}{dt}$.\n",
    "\n",
    "For an underdamped pendulum, the solution for the differential equation is $\\theta(t)=\\theta_0e^{-qt/2}sin(\\sqrt{\\Omega^2-q^2/4}t+\\phi)$.\n",
    "\n",
    "An overdamped pendulum gives the solution $\\theta(t)=\\theta_0e^{-(q/2\\pm \\sqrt{q^2/4-\\Omega^2})t}$.\n",
    "\n",
    "The boundary between an underdamped and an overdamped pendulum is called a critically damped pendulum, and it has the solution $\\theta(t)=(\\theta_0+Ct)e^{-qt/2}$"
   ]
  },
  {
   "cell_type": "code",
   "execution_count": 1,
   "metadata": {},
   "outputs": [],
   "source": [
    "import numpy as np \n",
    "import matplotlib.pyplot as plt\n",
    "import scipy.constants as sc"
   ]
  },
  {
   "cell_type": "code",
   "execution_count": 2,
   "metadata": {},
   "outputs": [],
   "source": [
    "\"plotting parameters \"\n",
    "fontsize=15\n",
    "newparams = {'axes.titlesize': fontsize, 'axes.labelsize': fontsize, \n",
    "             'figure.titlesize':20,\n",
    "             'lines.linewidth': 2, 'lines.markersize': 7,\n",
    "             'figure.figsize': (20, 5), 'ytick.labelsize': fontsize,\n",
    "             'xtick.labelsize': fontsize, 'legend.fontsize': fontsize,\n",
    "            'legend.handlelength': 1.0}\n",
    "\n",
    "plt.rcParams.update(newparams)"
   ]
  },
  {
   "cell_type": "code",
   "execution_count": 3,
   "metadata": {},
   "outputs": [],
   "source": [
    "\"\"\"Defining functions\"\"\"\n",
    "#Runge Kutta \n",
    "def Kutta4(f,t0,y0,h,nsteps,q=1,omega_D=1):\n",
    "    Y=np.zeros((nsteps,2))  #2D array. Y[:,0] is theta values and Y[:,1] is omega values \n",
    "    Y[0]=y0 #initial values\n",
    "    \n",
    "    T=np.linspace(t0, t0 + h*nsteps, nsteps) #array of time values \n",
    "    \n",
    "    for i in range(nsteps-1): \n",
    "        t=i*h\n",
    "        F1= f(Y[i],t,q,omega_D)\n",
    "        F2= f(Y[i] + h/2* F1,t,q,omega_D)\n",
    "        F3= f(Y[i] + h/2* F2,t,q,omega_D)\n",
    "        F4= f(Y[i] + h*F3,t,q,omega_D)\n",
    "        \n",
    "        Y[i+1]= Y[i] + h/6*(F1+2*F2+2*F3+F4) #calculating the new theta and omega values\n",
    "        \n",
    "    return Y,T #return array of theta and omega values, and time list\n",
    "\n",
    "\n",
    "#finds the total energy per unit mass \n",
    "def total_energy(theta, omega,l): \n",
    "    E=np.zeros(len(theta)) #array of energy values \n",
    "    for i in range(len(theta)):\n",
    "        E[i] = 1/2*l**2*(omega[i]**2+g/l*theta[i]**2) #calculating the energy based on theta and omega values \n",
    "    return E"
   ]
  },
  {
   "cell_type": "markdown",
   "metadata": {},
   "source": [
    "MANGLER: tolke theta for overdamped pendulum, mer om energi \n",
    "\n",
    "The plots to the left below show the angle $\\theta$ as a function of time for an underdamped, an overdamped and a critically damped pendulum. The plots include both the numerical and the analytical solutions, which matches well . The plots to the right show the work done by damping as a function of time. The energy is decreasing with time for all three pendulums, which makes sense physically. The energy plot has terrace points for the underdamped pendulum where the velocity is zero (at the maximum and minimum values of theta). \n",
    "\n",
    "As illustrated by the plot, the underdamped pendulum has an oscillatory motion, with an amplitude that decays with time. \n",
    "\n",
    "The critically damped pendulum starts out as half a sinus wave, but stops when $\\theta$ reaches 0. "
   ]
  },
  {
   "cell_type": "code",
   "execution_count": 4,
   "metadata": {},
   "outputs": [],
   "source": [
    "\n",
    "\"\"\"Defining constants and initial values\"\"\"\n",
    "q0=1 #???????????trengs den?\n",
    "delta_t=0.01 #?????????Hvilken verdi skal vi bruke????\n",
    "nsteps =int(10/delta_t)   #??????Hvilken verdi skal vi bruke her da????\n",
    "theta0 = 0.2\n",
    "omega0 = 0 #inital value for the pendulums angular velocity \n",
    "x0 = np.array([theta0,omega0])\n",
    "g=sc.g\n",
    "l=1\n",
    "phi = np.pi/2 #Faseforskyngning (Trengs den?)\n",
    "\n",
    "\n",
    "def f_damped(w,t,q,omega_D):\n",
    "    return np.array([w[1],-g/l*w[0]-q*w[1]])    \n",
    "\n",
    "print(np.sqrt(4*g/l))\n",
    "\n",
    "def plot_damped(q,analytic_sol,title): #sett sikkert inn flere parametre her\n",
    "    x,t = Kutta4(f_damped,0,x0,delta_t,nsteps,q)\n",
    "    theta=x[:,0]\n",
    "    omega=x[:,1]\n",
    "    energy=total_energy(theta, omega,l)\n",
    "    E0=energy[0]\n",
    "    work=-energy+E0\n",
    "    theta_a=analytic_sol(t,q)\n",
    "    \n",
    "    f,axs=plt.subplots(2,2,figsize=(15,5))\n",
    "    plt.subplot(1,2,1)\n",
    "    plt.suptitle(title)\n",
    "    plt.title(r'$\\theta (t)$')\n",
    "    plt.ylabel(r\"$ \\theta $\")\n",
    "    plt.xlabel(\"t\")\n",
    "    plt.plot(t,theta,color='#800020',label=\"Numerical\")\n",
    "    plt.plot(t,theta_a,color='#00f060',linestyle = '--' ,label=\"Analytical\")\n",
    "    plt.legend()\n",
    "    \n",
    "    plt.subplot(1,2,2)\n",
    "    plt.title(\"Work done by damping\")\n",
    "    plt.ylabel(\"work\")\n",
    "    plt.xlabel(\"t\")\n",
    "    plt.plot(t,work)\n",
    "\n",
    "    \n",
    "    \n",
    "def analytic_sol_u(t,q):\n",
    "    return theta0 * np.exp(-q*t/2) * np.sin(np.sqrt(g/l - q**2/4)*t + phi )\n",
    "    \n",
    "def analytic_sol_o(t,q):  ##pluss eller minus???????????????\n",
    "    exp_fact= (q/2 - np.sqrt(q**2/4 + g/l))\n",
    "    return theta0 * np.exp(exp_fact*t)\n",
    "    return theta0 * np.exp(-(q/2 - np.sqrt(q**2/4 + g/l))*t)\n",
    "    #return theta0 * np.exp( -(q/2 + np.sqrt(q**2/4 + g/l))*t)\n",
    "\n",
    "def analytic_sol_c(t,q): ###Hva er C ???????????????????\n",
    "    C=theta0*q/2   #hva i all verden er denne????\n",
    "    return (theta0 + C*t ) * np.exp(-q*t/2)\n",
    "    \n",
    "    \n",
    "\n",
    "\"\"\"Plotting\"\"\"\n",
    "\"\"\"Underdamped  q^2 < 4g/l  \"\"\"\n",
    "q_u=1\n",
    "plot_damped(q_u,analytic_sol_u,\"Underdamped, q= \" + str(q_u))\n",
    "\n",
    "\"\"\"Overdamped q^2>4g/l\"\"\"\n",
    "q_o=30\n",
    "plot_damped(q_o,analytic_sol_o,\"Overdamped, q= \" + str(q_o))\n",
    "\n",
    "\"\"\"Critically damped q\"\"\"\n",
    "q_c=np.sqrt(4*g/l)\n",
    "plot_damped(q_c,analytic_sol_c,\"Critically damped, q = \" + str( round (q_c,2)))\n"
   ]
  },
  {
   "cell_type": "markdown",
   "metadata": {},
   "source": [
    "## 2) Forced harmonic (damped) pendulum \n",
    "\n",
    "SHOW NUMERICALLY THE EXISTENCE OF RESONANCE FOR THIS PROBLEM!!\n",
    "(Hvordan skal vi gjøre det?)\n",
    "\n",
    "If we have an external driving force that is sinusoidal in time, the equation of motion gets an additional term, and becomes $\\frac{d^2\\theta}{dt^2}=-\\frac{g}{l}\\theta-q\\frac{d\\theta}{dt}+F_Dsin(\\Omega_Dt)$. This equation has the steady state solution $\\theta=\\theta_0sin(\\Omega_dt+\\phi)$, with an amplitude given by $\\theta_0=\\frac{F_d}{\\sqrt{(\\Omega^2-\\Omega_D^2)^2+(q\\Omega_D)^2}}$. From this formula we see that the resonant amplitude is dependent on $q$ and $\\Omega_D$. Resonance occurs if $\\Omega_D\\approx\\Omega$, which gives $\\theta_0\\approx\\frac{F_d}{q\\Omega_d}$"
   ]
  },
  {
   "cell_type": "code",
   "execution_count": 5,
   "metadata": {},
   "outputs": [],
   "source": [
    "#default value for driving force\n",
    "nsteps_f= int(20/delta_t)\n",
    "Fd = 0.2\n",
    "Omega_D = np.sqrt(g/l)  #prøvde å sette den til ca resonansfrekvensen\n",
    "q0=1\n",
    "\n",
    "def f_forced(w,t,q,omega_D):\n",
    "    return np.array([w[1],-q*w[1]-g/l*w[0]+Fd*np.sin(omega_D*t)])\n",
    "\n",
    "x_forced, t = Kutta4(f_forced,0,x0,delta_t,nsteps_f,q0,Omega_D)\n",
    "theta_forced=x_forced[:,0]\n",
    "\n",
    "\n",
    "#plotting harmonic forced oscillation \n",
    "plt.title(\"Forced harmonic oscillation\")\n",
    "plt.xlabel(\"t\")\n",
    "plt.ylabel(\"$\\theta$\") \n",
    "plt.plot(t,theta_forced)\n",
    "plt.ylabel(r'$\\theta$')\n",
    "plt.xlabel('t ')\n",
    "plt.show()\n",
    "\n"
   ]
  },
  {
   "cell_type": "markdown",
   "metadata": {},
   "source": [
    "The plot below shows how the resonance amplitude varies with respect to $\\Omega_D$."
   ]
  },
  {
   "cell_type": "code",
   "execution_count": 6,
   "metadata": {},
   "outputs": [],
   "source": [
    "\"\"\"Dependence of Omega_D\"\"\"\n",
    "nsteps_omega_D = 4000\n",
    "\n",
    "\n",
    "#skal finne resonans amplituden\n",
    "def resonant_amplitude(theta_list):\n",
    "    midle_of_list= int(nsteps_f/4*3)\n",
    "    return np.max(theta_list[midle_of_list:])\n",
    "\n",
    "def analytic_resonant_amplitude(Fd,omegaD=Omega_D,q=q0):\n",
    "    return Fd/np.sqrt( (g/l - omegaD**2)**2 + (q*omegaD)**2 )\n",
    "    \n",
    "#list_of_omega_D = np.linspace(0.5,10,100) \n",
    "list_of_omega_D = np.linspace(1,10,50) ###tester bare SLETT DENNE TIL SLUTT!!!!\n",
    "amplitudes_omega_D=np.zeros(len(list_of_omega_D))\n",
    "\n",
    "for i in range(len(list_of_omega_D)):\n",
    "    omega_i = list_of_omega_D[i]\n",
    "    x_i, t= Kutta4(f_forced,0,x0,delta_t,nsteps_omega_D,q0,omega_i)\n",
    "    theta_i = x_i[:,0]\n",
    "    amplitudes_omega_D[i] = resonant_amplitude(theta_i)\n",
    "    \n",
    "\n",
    "plt.title(\"Resonance amplitude\")\n",
    "plt.xlabel(\"$\\Omega_d$\")\n",
    "plt.plot(list_of_omega_D,amplitudes_omega_D)\n"
   ]
  },
  {
   "cell_type": "code",
   "execution_count": 7,
   "metadata": {
    "scrolled": true
   },
   "outputs": [],
   "source": [
    "\"\"\"bare test\"\"\"\n",
    "x_test1, t= Kutta4(f_forced,0,x0,delta_t,5000,q0,0.2)\n",
    "\n",
    "theta_test1 = x_test1[:,0]\n",
    "\n",
    "plt.plot(t,theta_test1)\n",
    "plt.show()\n"
   ]
  },
  {
   "cell_type": "markdown",
   "metadata": {},
   "source": [
    "Below is a plot of the resonance amplitude as a function of $\\Omega_D$, computed both numerically and analytically. The numerical and analytical solutions match well. \n",
    "\n",
    "The dotted vertical line shows where $\\Omega_D=\\Omega$. When $\\Omega_D\\approx\\Omega$, the resonance value is relatively large.  "
   ]
  },
  {
   "cell_type": "code",
   "execution_count": 8,
   "metadata": {},
   "outputs": [],
   "source": [
    "\"\"\"test for å finne ut hvor stor tidsintervall vi må ha\"\"\"\n",
    "analytic_ra_omega_D = analytic_resonance_amplitude(Fd,omegaD=list_of_omega_D)\n",
    "    \n",
    "\n",
    "    \n",
    "plt.title(r\"Resonant amplitude as a function of $\\Omega_D$\")\n",
    "plt.plot(list_of_omega_D,amplitudes_omega_D, label = 'Numeric')\n",
    "plt.plot(list_of_omega_D,analytic_ra_omega_D, linestyle='--', label = \"Analytic\" )\n",
    "plt.xlabel(r'$\\Omega_D$')\n",
    "plt.ylabel('Resonant amplitude')\n",
    "plt.vlines(np.sqrt(g/l),0,0.07,linestyle=':', label = r'$\\Omega_D = \\sqrt{g/l}$' )\n",
    "plt.legend()\n",
    "plt.show()\n",
    "\n",
    "\n"
   ]
  },
  {
   "cell_type": "markdown",
   "metadata": {},
   "source": [
    "The plot below shows how the resonant amplitude varies with respect to the friction parameter q. As mentioned above,  if $\\Omega_D\\approx\\Omega$, as is the case here, we have $\\theta_0\\approx\\frac{F_d}{q\\Omega_d}$. This means that the resonant amplitude decreases with a factor $\\frac{constant}{q}$, in accordance with the plot below. "
   ]
  },
  {
   "cell_type": "code",
   "execution_count": 9,
   "metadata": {},
   "outputs": [],
   "source": [
    "\"Dependence of q\"\n",
    "\n",
    "Omega_D_q = Omega_D\n",
    "\n",
    "\n",
    "def plot_resonant_amp_afo_q(Omega_D_q):\n",
    "    qlist=np.linspace(0.5,10,50)\n",
    "    Amplitudes_qi=np.zeros(len(qlist))\n",
    "\n",
    "    for i in range(len(qlist)):\n",
    "        qi = qlist[i]\n",
    "        x_i, t= Kutta4(f_forced,0,x0,delta_t,nsteps_omega_D,qi,Omega_D_q)\n",
    "        theta_i = x_i[:,0]\n",
    "        Amplitudes_qi[i] = resonant_amplitude(x_i[:,0])\n",
    "\n",
    "    analytic_ra_q = analytic_resonant_amplitude(Fd,Omega_D_q,qlist)\n",
    "\n",
    "    plt.title(r\"Resonant amplitude as a function of q,  $\\Omega_D =$\" + str(round(Omega_D_q,2)))\n",
    "    plt.xlabel(\"q\")\n",
    "    plt.ylabel(\"Resonant amplitude\")\n",
    "    plt.plot(qlist,Amplitudes_qi,label='numeric')\n",
    "    plt.plot(qlist,analytic_ra_q,label = 'analytic')\n",
    "    plt.legend()\n",
    "    plt.show()\n",
    "    \n",
    "plot_resonant_amp_afo_q(Omega_D)\n",
    "plot_resonant_amp_afo_q(4)"
   ]
  },
  {
   "cell_type": "code",
   "execution_count": null,
   "metadata": {},
   "outputs": [],
   "source": []
  }
 ],
 "metadata": {
  "kernelspec": {
   "display_name": "Python 3",
   "language": "python",
   "name": "python3"
  },
  "language_info": {
   "codemirror_mode": {
    "name": "ipython",
    "version": 3
   },
   "file_extension": ".py",
   "mimetype": "text/x-python",
   "name": "python",
   "nbconvert_exporter": "python",
   "pygments_lexer": "ipython3",
   "version": "3.6.5"
  }
 },
 "nbformat": 4,
 "nbformat_minor": 2
}
